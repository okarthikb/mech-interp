{
 "cells": [
  {
   "cell_type": "markdown",
   "metadata": {},
   "source": [
    "# Anthropic paper explainer notebook\n",
    "\n",
    "We discuss this [paper](https://transformer-circuits.pub/2021/framework/index.html#d-footnote-15) in this notebook."
   ]
  },
  {
   "cell_type": "code",
   "execution_count": 1,
   "metadata": {},
   "outputs": [],
   "source": [
    "import torch\n",
    "import torch.nn as nn\n",
    "import torch.nn.functional as F\n",
    "import numpy as np\n",
    "from einops import rearrange, reduce, repeat\n",
    "import matplotlib.pyplot as plt\n",
    "from tqdm import tqdm"
   ]
  },
  {
   "cell_type": "markdown",
   "metadata": {},
   "source": [
    "We'll be using the same hyperparams"
   ]
  },
  {
   "cell_type": "code",
   "execution_count": 2,
   "metadata": {},
   "outputs": [],
   "source": [
    "d = 32  # embedding dimension\n",
    "v = 128  # vocabulary size\n",
    "l = 64  # sequence length\n",
    "h = 4  # no. of heads\n",
    "# dh = d // h  # head dimension"
   ]
  },
  {
   "cell_type": "markdown",
   "metadata": {},
   "source": [
    "## Standard interpretation of attention\n",
    "\n",
    "We have a matrix $t \\in \\mathbb{R}^{l \\times v}$ of $l$ one-hot vectors where $l$ is the sequence length. We have an embedding matrix $W_E \\in \\mathbb{R}^{v \\times d}$ where $d$ is the embedding dimension. $tW_E$ gets us the embedding vectors $x$ to input into the model, and $x = tW_E \\in \\mathbb{R}^{l \\times d}$"
   ]
  },
  {
   "cell_type": "code",
   "execution_count": 3,
   "metadata": {},
   "outputs": [
    {
     "data": {
      "text/plain": [
       "torch.Size([64, 32])"
      ]
     },
     "execution_count": 3,
     "metadata": {},
     "output_type": "execute_result"
    }
   ],
   "source": [
    "# nn.Embedding : torch.long -> torch.float\n",
    "# accepts a tensor of token ids and maps each to an embedding\n",
    "We = nn.Embedding(v, d)\n",
    "\n",
    "# example\n",
    "tokens = torch.randint(0, v, (l,))  # shape (l,)\n",
    "x = We(tokens)  # shape (l, d) = (64, 32)\n",
    "x.shape"
   ]
  },
  {
   "cell_type": "markdown",
   "metadata": {},
   "source": [
    "Next we have the query, key, value, and atention output projection matrices $W_q, W_k, W_v, W_o \\in \\mathbb{R}^{d \\times d}$. We also choose the number of heads $h$ and $h \\vert d$. We get $q, k,$ and $v$ by doing the projections\n",
    "\n",
    "$\\{q, k, v\\} = xW_{\\{q, k, v\\}}$"
   ]
  },
  {
   "cell_type": "code",
   "execution_count": 4,
   "metadata": {},
   "outputs": [
    {
     "data": {
      "text/plain": [
       "(torch.Size([64, 32]), torch.Size([64, 32]), torch.Size([64, 32]))"
      ]
     },
     "execution_count": 4,
     "metadata": {},
     "output_type": "execute_result"
    }
   ],
   "source": [
    "Wq, Wk, Wv, Wo = [torch.randn(d, d) for _ in range(4)]\n",
    "\n",
    "q, k, v = x @ Wq, x @ Wk, x @ Wv  # (l, d) @ (d, d) = (l, d)\n",
    "\n",
    "q.shape, k.shape, v.shape"
   ]
  },
  {
   "cell_type": "markdown",
   "metadata": {},
   "source": [
    "and then we split $Q, K,$ and $V$ along the embedding dimension (i.e., the second dimension) for multi-head attention"
   ]
  },
  {
   "cell_type": "code",
   "execution_count": 5,
   "metadata": {},
   "outputs": [
    {
     "name": "stderr",
     "output_type": "stream",
     "text": [
      "/Users/karthik/Desktop/environments/chat/lib/python3.10/site-packages/tqdm/auto.py:21: TqdmWarning: IProgress not found. Please update jupyter and ipywidgets. See https://ipywidgets.readthedocs.io/en/stable/user_install.html\n",
      "  from .autonotebook import tqdm as notebook_tqdm\n"
     ]
    },
    {
     "data": {
      "text/plain": [
       "(torch.Size([4, 64, 8]), torch.Size([4, 64, 8]), torch.Size([4, 64, 8]))"
      ]
     },
     "execution_count": 5,
     "metadata": {},
     "output_type": "execute_result"
    }
   ],
   "source": [
    "qs, ks, vs = map(\n",
    "  lambda m: rearrange(m, 'l (h dh) -> h l dh', h=h),\n",
    "  (q, k, v)\n",
    ")\n",
    "\n",
    "qs.shape, ks.shape, vs.shape"
   ]
  },
  {
   "cell_type": "markdown",
   "metadata": {},
   "source": [
    "Visually, we did this\n",
    "\n",
    "<img src=\"head_split.png\" height=384, width=608>\n",
    "\n",
    "Now we transpose all the key matrices like so\n",
    "\n",
    "<img src=\"key_transpose.png\" height=144 width=1120>\n"
   ]
  },
  {
   "cell_type": "code",
   "execution_count": 6,
   "metadata": {},
   "outputs": [
    {
     "data": {
      "text/plain": [
       "torch.Size([4, 8, 64])"
      ]
     },
     "execution_count": 6,
     "metadata": {},
     "output_type": "execute_result"
    }
   ],
   "source": [
    "ks = rearrange(ks, 'h l dh -> h dh l')\n",
    "ks.shape"
   ]
  },
  {
   "cell_type": "markdown",
   "metadata": {},
   "source": [
    "Now we do a simple mat mul b/w all the query matrices and key matrices and take softmax along the last dimension to get the attention score matrices\n",
    "\n",
    "<img src=\"attention_.png\" height=960 width=784>"
   ]
  },
  {
   "cell_type": "markdown",
   "metadata": {},
   "source": [
    "We must add a causal mask to our query key dot product matrix before softmax-ing it. We create a lower triangular matrix of 1s, subtract one to turn the 1s to 0s and the zeros above the diagonal to -1, then we replace the -1s with -inf"
   ]
  },
  {
   "cell_type": "code",
   "execution_count": 7,
   "metadata": {},
   "outputs": [
    {
     "name": "stdout",
     "output_type": "stream",
     "text": [
      "torch.Size([64, 64])\n",
      "tensor([[0., -inf, -inf,  ..., -inf, -inf, -inf],\n",
      "        [0., 0., -inf,  ..., -inf, -inf, -inf],\n",
      "        [0., 0., 0.,  ..., -inf, -inf, -inf],\n",
      "        ...,\n",
      "        [0., 0., 0.,  ..., 0., -inf, -inf],\n",
      "        [0., 0., 0.,  ..., 0., 0., -inf],\n",
      "        [0., 0., 0.,  ..., 0., 0., 0.]])\n"
     ]
    }
   ],
   "source": [
    "m = torch.tril(torch.ones(l, l)) - 1\n",
    "m[m == -1] = float('-inf')\n",
    "print(m.shape)\n",
    "print(m)"
   ]
  },
  {
   "cell_type": "markdown",
   "metadata": {},
   "source": [
    "We now compute attention scores"
   ]
  },
  {
   "cell_type": "code",
   "execution_count": 8,
   "metadata": {},
   "outputs": [
    {
     "data": {
      "text/plain": [
       "torch.Size([4, 64, 64])"
      ]
     },
     "execution_count": 8,
     "metadata": {},
     "output_type": "execute_result"
    }
   ],
   "source": [
    "scores = F.softmax(qs @ ks + m, -1)  # (h, l, dh) @ (h, dh, l) = (h, l, l)\n",
    "scores.shape"
   ]
  },
  {
   "cell_type": "code",
   "execution_count": 9,
   "metadata": {},
   "outputs": [
    {
     "data": {
      "image/png": "[encoded data removed]",
      "text/plain": [
       "<Figure size 600x600 with 1 Axes>"
      ]
     },
     "metadata": {},
     "output_type": "display_data"
    }
   ],
   "source": [
    "# there are h score matrices – shape (h, l, l) – one for each head\n",
    "# we visualize the first \n",
    "\n",
    "fig = plt.figure(figsize=(6, 6))\n",
    "plt.imshow(scores[0].detach().numpy(), cmap='gray')\n",
    "plt.show()"
   ]
  },
  {
   "cell_type": "markdown",
   "metadata": {},
   "source": [
    "Now we mat mul each attention score matrix $S_i = Q_iK_i$ in `scores` with the corresponding value matrix $V_i$ in `vs` and get the heads\n",
    "\n",
    "<img src=\"score_vs.png\" height=960 width=768>"
   ]
  },
  {
   "cell_type": "code",
   "execution_count": 10,
   "metadata": {},
   "outputs": [
    {
     "data": {
      "text/plain": [
       "torch.Size([4, 64, 8])"
      ]
     },
     "execution_count": 10,
     "metadata": {},
     "output_type": "execute_result"
    }
   ],
   "source": [
    "heads = scores @ vs  # (h, l, l) @ (h, l, dh) = (h, l, dh)\n",
    "\n",
    "heads.shape"
   ]
  },
  {
   "cell_type": "markdown",
   "metadata": {},
   "source": [
    "We then concatenate the heads (first image) then do a mat mul with $W_o$ (second image) to get the final output\n",
    "\n",
    "<img src=\"attn_orig.png\" height=640 width=512>"
   ]
  },
  {
   "cell_type": "code",
   "execution_count": 11,
   "metadata": {},
   "outputs": [
    {
     "data": {
      "text/plain": [
       "True"
      ]
     },
     "execution_count": 11,
     "metadata": {},
     "output_type": "execute_result"
    }
   ],
   "source": [
    "# (h, l, dh) -> (l, d)\n",
    "# (l, d) @ (d, d) = (l, d)\n",
    "attention_original = rearrange(heads, 'h l dh -> l (h dh)') @ Wo\n",
    "\n",
    "x.shape == attention_original.shape == (l, d)"
   ]
  },
  {
   "cell_type": "code",
   "execution_count": 12,
   "metadata": {},
   "outputs": [
    {
     "data": {
      "text/plain": [
       "tensor([[-26.7898, -40.5536, -31.7684,  ...,  44.2484,  23.8010, -20.8165],\n",
       "        [ 20.4618,  55.5261,  -4.4693,  ...,  -7.6764, -43.5488, -84.5420],\n",
       "        [-40.5892, -57.2393, -41.2147,  ...,  11.1041,  24.3113,  49.8133],\n",
       "        ...,\n",
       "        [ 27.3018, -14.0709,  21.4640,  ..., -24.1097, -91.7262,  -7.5286],\n",
       "        [-19.8293, -17.5503,  10.3039,  ..., -55.9022, -64.8398,  34.3185],\n",
       "        [ 45.9931,  -5.1464,  18.5283,  ..., -44.9761, -15.5306,   8.1222]],\n",
       "       grad_fn=<MmBackward0>)"
      ]
     },
     "execution_count": 12,
     "metadata": {},
     "output_type": "execute_result"
    }
   ],
   "source": [
    "attention_original"
   ]
  },
  {
   "cell_type": "markdown",
   "metadata": {},
   "source": [
    "## Reinterpretation\n",
    "\n",
    "We leave the embedding projection as is. We split $W_{\\{q, k, v\\}} \\in \\mathbb{R}^{d \\times d}$ along the column $h$ times to get $h$ matrices $W_{\\{q, k, v\\}}^1, \\ldots, W_{\\{q, k, v\\}}^h\\in \\mathbb{R}^{d \\times \\lfloor\\frac{d}{h}\\rfloor}$ and split $W_o$ along the row $h$ times to get $W_o^1, \\ldots, W_o^h \\in \\mathbb{R}^{\\lfloor \\frac{d}{h} \\rfloor \\times d}$\n",
    "\n",
    "$W_{\\{q, k, v\\}}$ split like so\n",
    "\n",
    "<img src=\"wqkv_split.png\" height=180 width=468>\n",
    "\n",
    "$W_o$ is split like so\n",
    "\n",
    "<img src=\"wo_split.png\" height=180 width=720>"
   ]
  },
  {
   "cell_type": "code",
   "execution_count": 13,
   "metadata": {},
   "outputs": [
    {
     "data": {
      "text/plain": [
       "(torch.Size([4, 32, 8]), torch.Size([4, 32, 8]), torch.Size([4, 32, 8]))"
      ]
     },
     "execution_count": 13,
     "metadata": {},
     "output_type": "execute_result"
    }
   ],
   "source": [
    "# splitting Wq, Wk, Wv along the column h times\n",
    "Wq, Wk, Wv = map(\n",
    "  lambda m: rearrange(m, 'd (h dh) -> h d dh', h=h),\n",
    "  (Wq, Wk, Wv)\n",
    ")  # (d, d) -> (h, d, dh)\n",
    "\n",
    "Wq.shape, Wk.shape, Wv.shape"
   ]
  },
  {
   "cell_type": "code",
   "execution_count": 14,
   "metadata": {},
   "outputs": [
    {
     "data": {
      "text/plain": [
       "torch.Size([4, 8, 32])"
      ]
     },
     "execution_count": 14,
     "metadata": {},
     "output_type": "execute_result"
    }
   ],
   "source": [
    "# splitting Wo along the row h times\n",
    "Wo = rearrange(Wo, '(h dh) d -> h dh d', h=h)  # (d, d) -> (h, dh, d)\n",
    "\n",
    "Wo.shape"
   ]
  },
  {
   "cell_type": "markdown",
   "metadata": {},
   "source": [
    "We won't be computing `vs` here, because we want to show the QK and OV circuit distinction"
   ]
  },
  {
   "cell_type": "code",
   "execution_count": 15,
   "metadata": {},
   "outputs": [
    {
     "data": {
      "text/plain": [
       "(torch.Size([4, 64, 8]), torch.Size([4, 64, 8]))"
      ]
     },
     "execution_count": 15,
     "metadata": {},
     "output_type": "execute_result"
    }
   ],
   "source": [
    "qs, ks = x @ Wq, x @ Wk  # (l, d) @ (h, d, dh) = (h, l, dh)\n",
    "\n",
    "qs.shape, ks.shape "
   ]
  },
  {
   "cell_type": "markdown",
   "metadata": {},
   "source": [
    "We have\n",
    "\n",
    "$H^i = \\text{softmax}(Q^i {K^i}^T) V^i W_o^i$\n",
    "\n",
    "where $H^i \\in \\mathbb{R}^{l \\times d}$. We know $V_i$ is $xW_v^i$ so we seperate $H_i$ as a product of two terms\n",
    "\n",
    "$H^i = \\text{softmax}(Q^i {K^i}^T)(xW_v^i)W_o^i = (\\text{softmax}(Q^i {K^i}^T)x)(W_v^i W_o^i)$\n",
    "\n",
    "where the left term in the product is the QK circuit (determines source token value that information gets transferred FROM) and the right term is the OV circuit (determines subspace of source token value and subspace of destination token value and transfers info from one to the other). Now, attention is just the sum of all $H_i$\n",
    "\n",
    "$A = \\sum_{i = 1}^h H_i$\n",
    "\n",
    "We are of course not computing the one by one, we are doing batched mat mul and a reduction here"
   ]
  },
  {
   "cell_type": "code",
   "execution_count": 16,
   "metadata": {},
   "outputs": [
    {
     "name": "stdout",
     "output_type": "stream",
     "text": [
      "torch.Size([4, 64, 32])\n",
      "torch.Size([4, 32, 32])\n",
      "torch.Size([4, 64, 32])\n"
     ]
    }
   ],
   "source": [
    "ks = rearrange(ks, 'h l dh -> h dh l')  # transpose last 2 dims of ks first\n",
    "\n",
    "# QK circuit\n",
    "qk = F.softmax(qs @ ks + m, -1) @ x # (h, l, dh) @ (h, dh, l) @ (l, d) = (h, l, d)\n",
    "print(qk.shape)\n",
    "\n",
    "# OV circuit\n",
    "ov = Wv @ Wo  # (h, d, dh) @ (h, dh, d) = (h, d, d)\n",
    "print(ov.shape)\n",
    "\n",
    "# compute H_i for all i\n",
    "Hs = qk @ ov  # (h, l, d) @ (h, d, d) = (h, l, d)\n",
    "print(Hs.shape)"
   ]
  },
  {
   "cell_type": "markdown",
   "metadata": {},
   "source": [
    "We now do the reduction"
   ]
  },
  {
   "cell_type": "code",
   "execution_count": 17,
   "metadata": {},
   "outputs": [
    {
     "data": {
      "text/plain": [
       "True"
      ]
     },
     "execution_count": 17,
     "metadata": {},
     "output_type": "execute_result"
    }
   ],
   "source": [
    "attention_new = reduce(Hs, 'h l d -> l d', 'sum')  # (h, l, d) -> (l, d)\n",
    "\n",
    "x.shape == attention_new.shape == (l, d)"
   ]
  },
  {
   "cell_type": "markdown",
   "metadata": {},
   "source": [
    "Let's check if `attention_new` is equal to `attention_original`. We should expect `attention_new == attention_original` to return false in some positions because of the non-associative nature of doing mat mul in a computer, but if we manually inspect the values, they should look the same"
   ]
  },
  {
   "cell_type": "code",
   "execution_count": 18,
   "metadata": {},
   "outputs": [
    {
     "data": {
      "text/plain": [
       "tensor([[False, False, False,  ..., False,  True, False],\n",
       "        [False,  True, False,  ..., False,  True, False],\n",
       "        [False, False, False,  ..., False,  True, False],\n",
       "        ...,\n",
       "        [ True, False, False,  ...,  True, False, False],\n",
       "        [False, False, False,  ...,  True, False, False],\n",
       "        [False, False, False,  ...,  True, False, False]])"
      ]
     },
     "execution_count": 18,
     "metadata": {},
     "output_type": "execute_result"
    }
   ],
   "source": [
    "attention_new == attention_original"
   ]
  },
  {
   "cell_type": "code",
   "execution_count": 19,
   "metadata": {},
   "outputs": [
    {
     "data": {
      "text/plain": [
       "tensor([[-26.7898, -40.5536, -31.7684,  ...,  44.2484,  23.8010, -20.8165],\n",
       "        [ 20.4618,  55.5261,  -4.4693,  ...,  -7.6764, -43.5488, -84.5420],\n",
       "        [-40.5892, -57.2393, -41.2147,  ...,  11.1041,  24.3113,  49.8133],\n",
       "        ...,\n",
       "        [ 27.3018, -14.0709,  21.4640,  ..., -24.1097, -91.7263,  -7.5286],\n",
       "        [-19.8293, -17.5503,  10.3039,  ..., -55.9022, -64.8398,  34.3185],\n",
       "        [ 45.9931,  -5.1464,  18.5283,  ..., -44.9761, -15.5306,   8.1222]],\n",
       "       grad_fn=<SumBackward1>)"
      ]
     },
     "execution_count": 19,
     "metadata": {},
     "output_type": "execute_result"
    }
   ],
   "source": [
    "attention_new"
   ]
  },
  {
   "cell_type": "code",
   "execution_count": 20,
   "metadata": {},
   "outputs": [
    {
     "data": {
      "text/plain": [
       "tensor([[-26.7898, -40.5536, -31.7684,  ...,  44.2484,  23.8010, -20.8165],\n",
       "        [ 20.4618,  55.5261,  -4.4693,  ...,  -7.6764, -43.5488, -84.5420],\n",
       "        [-40.5892, -57.2393, -41.2147,  ...,  11.1041,  24.3113,  49.8133],\n",
       "        ...,\n",
       "        [ 27.3018, -14.0709,  21.4640,  ..., -24.1097, -91.7262,  -7.5286],\n",
       "        [-19.8293, -17.5503,  10.3039,  ..., -55.9022, -64.8398,  34.3185],\n",
       "        [ 45.9931,  -5.1464,  18.5283,  ..., -44.9761, -15.5306,   8.1222]],\n",
       "       grad_fn=<MmBackward0>)"
      ]
     },
     "execution_count": 20,
     "metadata": {},
     "output_type": "execute_result"
    }
   ],
   "source": [
    "attention_original"
   ]
  }
 ],
 "metadata": {
  "kernelspec": {
   "display_name": "Python 3",
   "language": "python",
   "name": "python3"
  },
  "language_info": {
   "codemirror_mode": {
    "name": "ipython",
    "version": 3
   },
   "file_extension": ".py",
   "mimetype": "text/x-python",
   "name": "python",
   "nbconvert_exporter": "python",
   "pygments_lexer": "ipython3",
   "version": "3.10.12"
  },
  "orig_nbformat": 4
 },
 "nbformat": 4,
 "nbformat_minor": 2
}
